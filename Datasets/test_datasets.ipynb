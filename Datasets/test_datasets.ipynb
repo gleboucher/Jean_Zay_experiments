{
 "cells": [
  {
   "cell_type": "code",
   "id": "initial_id",
   "metadata": {
    "collapsed": true,
    "ExecuteTime": {
     "end_time": "2025-06-20T08:38:10.508703Z",
     "start_time": "2025-06-20T08:38:08.819165Z"
    }
   },
   "source": "import pennylane as qml\n",
   "outputs": [],
   "execution_count": 1
  },
  {
   "metadata": {
    "ExecuteTime": {
     "end_time": "2025-06-20T08:38:15.475665Z",
     "start_time": "2025-06-20T08:38:11.306174Z"
    }
   },
   "cell_type": "code",
   "source": "[ds] = qml.data.load(\"other\", name=\"genomic\")",
   "id": "5657f611fe4ebd34",
   "outputs": [],
   "execution_count": 2
  },
  {
   "metadata": {
    "ExecuteTime": {
     "end_time": "2025-06-20T08:38:28.661274Z",
     "start_time": "2025-06-20T08:38:28.644134Z"
    }
   },
   "cell_type": "code",
   "source": "ds.train.shape",
   "id": "b1df6b83f8d1cdee",
   "outputs": [
    {
     "data": {
      "text/plain": [
       "(3338, 805)"
      ]
     },
     "execution_count": 4,
     "metadata": {},
     "output_type": "execute_result"
    }
   ],
   "execution_count": 4
  },
  {
   "metadata": {
    "ExecuteTime": {
     "end_time": "2025-06-20T08:39:23.148632Z",
     "start_time": "2025-06-20T08:39:23.127491Z"
    }
   },
   "cell_type": "code",
   "source": "ds.__dict__",
   "id": "61422f055232d5b5",
   "outputs": [
    {
     "data": {
      "text/plain": [
       "{'_bind': <HDF5 file \"genomic.h5\" (mode r+)>,\n",
       " '_MapperMixin__mapper': {'train': DatasetArray(array([[1, 0, 0, ..., 1, 0, 0],\n",
       "        [0, 0, 0, ..., 0, 0, 0],\n",
       "        [0, 0, 1, ..., 1, 0, 0],\n",
       "        ...,\n",
       "        [0, 0, 0, ..., 0, 0, 0],\n",
       "        [0, 1, 0, ..., 1, 1, 1],\n",
       "        [1, 1, 0, ..., 0, 0, 1]], shape=(3338, 805))), 'test': DatasetArray(array([[1, 0, 1, ..., 0, 1, 0],\n",
       "        [0, 0, 0, ..., 1, 0, 1],\n",
       "        [0, 0, 0, ..., 0, 1, 0],\n",
       "        ...,\n",
       "        [0, 0, 0, ..., 1, 0, 0],\n",
       "        [0, 0, 1, ..., 1, 0, 1],\n",
       "        [0, 0, 0, ..., 1, 0, 0]], shape=(1670, 805)))}}"
      ]
     },
     "execution_count": 5,
     "metadata": {},
     "output_type": "execute_result"
    }
   ],
   "execution_count": 5
  },
  {
   "metadata": {
    "ExecuteTime": {
     "end_time": "2025-06-20T08:47:10.403338Z",
     "start_time": "2025-06-20T08:47:08.242113Z"
    }
   },
   "cell_type": "code",
   "source": [
    "[ds] = qml.data.load(\"other\", name=\"hidden-manifold\")\n",
    "\n",
    "ds.train['4']['inputs'] # points in 4-dimensional space\n",
    "ds.train['4']['labels']"
   ],
   "id": "176a06820a12a1c0",
   "outputs": [
    {
     "data": {
      "text/plain": [
       "[np.float64(-1.0), np.float64(-1.0), np.float64(1.0), np.float64(1.0), np.float64(1.0), np.float64(-1.0), np.float64(1.0), np.float64(-1.0), np.float64(-1.0), np.float64(-1.0), np.float64(-1.0), np.float64(1.0), np.float64(-1.0), np.float64(1.0), np.float64(1.0), np.float64(1.0), np.float64(-1.0), np.float64(1.0), np.float64(-1.0), np.float64(1.0), np.float64(-1.0), np.float64(1.0), np.float64(1.0), np.float64(1.0), np.float64(-1.0), np.float64(-1.0), np.float64(-1.0), np.float64(-1.0), np.float64(1.0), np.float64(-1.0), np.float64(-1.0), np.float64(1.0), np.float64(1.0), np.float64(1.0), np.float64(-1.0), np.float64(1.0), np.float64(-1.0), np.float64(-1.0), np.float64(1.0), np.float64(1.0), np.float64(1.0), np.float64(-1.0), np.float64(-1.0), np.float64(-1.0), np.float64(1.0), np.float64(1.0), np.float64(1.0), np.float64(-1.0), np.float64(-1.0), np.float64(-1.0), np.float64(-1.0), np.float64(-1.0), np.float64(-1.0), np.float64(1.0), np.float64(-1.0), np.float64(1.0), np.float64(1.0), np.float64(-1.0), np.float64(1.0), np.float64(1.0), np.float64(-1.0), np.float64(1.0), np.float64(1.0), np.float64(-1.0), np.float64(1.0), np.float64(1.0), np.float64(1.0), np.float64(1.0), np.float64(-1.0), np.float64(-1.0), np.float64(1.0), np.float64(-1.0), np.float64(1.0), np.float64(-1.0), np.float64(-1.0), np.float64(1.0), np.float64(1.0), np.float64(-1.0), np.float64(-1.0), np.float64(1.0), np.float64(-1.0), np.float64(1.0), np.float64(1.0), np.float64(-1.0), np.float64(-1.0), np.float64(-1.0), np.float64(-1.0), np.float64(-1.0), np.float64(-1.0), np.float64(-1.0), np.float64(-1.0), np.float64(-1.0), np.float64(-1.0), np.float64(-1.0), np.float64(-1.0), np.float64(1.0), np.float64(-1.0), np.float64(-1.0), np.float64(1.0), np.float64(-1.0), np.float64(-1.0), np.float64(-1.0), np.float64(-1.0), np.float64(-1.0), np.float64(-1.0), np.float64(1.0), np.float64(-1.0), np.float64(-1.0), np.float64(1.0), np.float64(1.0), np.float64(1.0), np.float64(1.0), np.float64(-1.0), np.float64(-1.0), np.float64(-1.0), np.float64(-1.0), np.float64(1.0), np.float64(1.0), np.float64(1.0), np.float64(1.0), np.float64(-1.0), np.float64(1.0), np.float64(1.0), np.float64(1.0), np.float64(-1.0), np.float64(-1.0), np.float64(1.0), np.float64(1.0), np.float64(-1.0), np.float64(1.0), np.float64(-1.0), np.float64(-1.0), np.float64(-1.0), np.float64(1.0), np.float64(-1.0), np.float64(-1.0), np.float64(-1.0), np.float64(1.0), np.float64(1.0), np.float64(1.0), np.float64(1.0), np.float64(1.0), np.float64(-1.0), np.float64(-1.0), np.float64(-1.0), np.float64(1.0), np.float64(-1.0), np.float64(-1.0), np.float64(1.0), np.float64(1.0), np.float64(-1.0), np.float64(1.0), np.float64(1.0), np.float64(1.0), np.float64(-1.0), np.float64(1.0), np.float64(1.0), np.float64(1.0), np.float64(-1.0), np.float64(1.0), np.float64(-1.0), np.float64(1.0), np.float64(-1.0), np.float64(1.0), np.float64(-1.0), np.float64(-1.0), np.float64(-1.0), np.float64(1.0), np.float64(-1.0), np.float64(-1.0), np.float64(1.0), np.float64(-1.0), np.float64(1.0), np.float64(-1.0), np.float64(1.0), np.float64(-1.0), np.float64(-1.0), np.float64(1.0), np.float64(-1.0), np.float64(-1.0), np.float64(1.0), np.float64(1.0), np.float64(1.0), np.float64(-1.0), np.float64(1.0), np.float64(1.0), np.float64(1.0), np.float64(-1.0), np.float64(-1.0), np.float64(1.0), np.float64(1.0), np.float64(1.0), np.float64(-1.0), np.float64(-1.0), np.float64(1.0), np.float64(-1.0), np.float64(1.0), np.float64(1.0), np.float64(1.0), np.float64(-1.0), np.float64(-1.0), np.float64(1.0), np.float64(1.0), np.float64(1.0), np.float64(1.0), np.float64(-1.0), np.float64(-1.0), np.float64(-1.0), np.float64(-1.0), np.float64(1.0), np.float64(1.0), np.float64(-1.0), np.float64(1.0), np.float64(1.0), np.float64(-1.0), np.float64(-1.0), np.float64(1.0), np.float64(-1.0), np.float64(-1.0), np.float64(1.0), np.float64(-1.0), np.float64(-1.0), np.float64(-1.0), np.float64(1.0), np.float64(-1.0), np.float64(1.0), np.float64(-1.0), np.float64(1.0), np.float64(1.0), np.float64(1.0), np.float64(1.0), np.float64(1.0), np.float64(-1.0), np.float64(1.0), np.float64(1.0), np.float64(1.0), np.float64(1.0), np.float64(1.0), np.float64(-1.0), np.float64(-1.0)]"
      ]
     },
     "execution_count": 11,
     "metadata": {},
     "output_type": "execute_result"
    }
   ],
   "execution_count": 11
  },
  {
   "metadata": {
    "ExecuteTime": {
     "end_time": "2025-06-20T08:49:56.612535Z",
     "start_time": "2025-06-20T08:49:53.842136Z"
    }
   },
   "cell_type": "code",
   "source": [
    "[ds] = qml.data.load(\"other\", name=\"hyperplanes\")\n",
    "\n",
    "ds.diff_train['4']['inputs'] # points in 10-dimensional space for 4 hyperplanes\n",
    "ds.diff_train['4']['labels']"
   ],
   "id": "614cc6f4bd0fe4e4",
   "outputs": [
    {
     "data": {
      "text/plain": [
       "[np.float64(1.0), np.float64(-1.0), np.float64(-1.0), np.float64(1.0), np.float64(1.0), np.float64(-1.0), np.float64(-1.0), np.float64(1.0), np.float64(1.0), np.float64(1.0), np.float64(-1.0), np.float64(-1.0), np.float64(1.0), np.float64(1.0), np.float64(1.0), np.float64(1.0), np.float64(-1.0), np.float64(-1.0), np.float64(-1.0), np.float64(-1.0), np.float64(1.0), np.float64(1.0), np.float64(-1.0), np.float64(1.0), np.float64(-1.0), np.float64(1.0), np.float64(-1.0), np.float64(1.0), np.float64(-1.0), np.float64(-1.0), np.float64(1.0), np.float64(1.0), np.float64(1.0), np.float64(1.0), np.float64(1.0), np.float64(-1.0), np.float64(1.0), np.float64(1.0), np.float64(1.0), np.float64(1.0), np.float64(-1.0), np.float64(1.0), np.float64(1.0), np.float64(-1.0), np.float64(1.0), np.float64(-1.0), np.float64(1.0), np.float64(-1.0), np.float64(-1.0), np.float64(1.0), np.float64(1.0), np.float64(1.0), np.float64(-1.0), np.float64(1.0), np.float64(1.0), np.float64(-1.0), np.float64(1.0), np.float64(-1.0), np.float64(1.0), np.float64(-1.0), np.float64(1.0), np.float64(-1.0), np.float64(-1.0), np.float64(1.0), np.float64(-1.0), np.float64(-1.0), np.float64(-1.0), np.float64(-1.0), np.float64(-1.0), np.float64(1.0), np.float64(1.0), np.float64(1.0), np.float64(1.0), np.float64(-1.0), np.float64(-1.0), np.float64(1.0), np.float64(1.0), np.float64(-1.0), np.float64(-1.0), np.float64(1.0), np.float64(1.0), np.float64(-1.0), np.float64(-1.0), np.float64(-1.0), np.float64(1.0), np.float64(1.0), np.float64(-1.0), np.float64(1.0), np.float64(-1.0), np.float64(1.0), np.float64(-1.0), np.float64(-1.0), np.float64(-1.0), np.float64(1.0), np.float64(-1.0), np.float64(-1.0), np.float64(1.0), np.float64(-1.0), np.float64(-1.0), np.float64(1.0), np.float64(-1.0), np.float64(-1.0), np.float64(1.0), np.float64(1.0), np.float64(-1.0), np.float64(-1.0), np.float64(-1.0), np.float64(-1.0), np.float64(1.0), np.float64(1.0), np.float64(-1.0), np.float64(-1.0), np.float64(1.0), np.float64(-1.0), np.float64(-1.0), np.float64(1.0), np.float64(1.0), np.float64(1.0), np.float64(1.0), np.float64(1.0), np.float64(-1.0), np.float64(-1.0), np.float64(1.0), np.float64(1.0), np.float64(1.0), np.float64(1.0), np.float64(-1.0), np.float64(1.0), np.float64(-1.0), np.float64(1.0), np.float64(1.0), np.float64(-1.0), np.float64(1.0), np.float64(-1.0), np.float64(1.0), np.float64(1.0), np.float64(-1.0), np.float64(-1.0), np.float64(1.0), np.float64(-1.0), np.float64(1.0), np.float64(-1.0), np.float64(1.0), np.float64(-1.0), np.float64(1.0), np.float64(1.0), np.float64(-1.0), np.float64(-1.0), np.float64(1.0), np.float64(-1.0), np.float64(1.0), np.float64(-1.0), np.float64(-1.0), np.float64(-1.0), np.float64(-1.0), np.float64(-1.0), np.float64(-1.0), np.float64(1.0), np.float64(1.0), np.float64(1.0), np.float64(-1.0), np.float64(-1.0), np.float64(1.0), np.float64(1.0), np.float64(-1.0), np.float64(1.0), np.float64(1.0), np.float64(1.0), np.float64(-1.0), np.float64(1.0), np.float64(-1.0), np.float64(1.0), np.float64(-1.0), np.float64(1.0), np.float64(1.0), np.float64(-1.0), np.float64(1.0), np.float64(-1.0), np.float64(1.0), np.float64(-1.0), np.float64(-1.0), np.float64(-1.0), np.float64(-1.0), np.float64(-1.0), np.float64(1.0), np.float64(1.0), np.float64(1.0), np.float64(-1.0), np.float64(-1.0), np.float64(1.0), np.float64(1.0), np.float64(-1.0), np.float64(1.0), np.float64(-1.0), np.float64(-1.0), np.float64(-1.0), np.float64(-1.0), np.float64(-1.0), np.float64(-1.0), np.float64(1.0), np.float64(-1.0), np.float64(1.0), np.float64(-1.0), np.float64(1.0), np.float64(-1.0), np.float64(-1.0), np.float64(-1.0), np.float64(1.0), np.float64(1.0), np.float64(1.0), np.float64(-1.0), np.float64(-1.0), np.float64(1.0), np.float64(-1.0), np.float64(-1.0), np.float64(-1.0), np.float64(1.0), np.float64(-1.0), np.float64(-1.0), np.float64(1.0), np.float64(1.0), np.float64(-1.0), np.float64(1.0), np.float64(1.0), np.float64(-1.0), np.float64(1.0), np.float64(1.0), np.float64(1.0), np.float64(1.0), np.float64(-1.0), np.float64(-1.0), np.float64(1.0), np.float64(-1.0), np.float64(-1.0), np.float64(-1.0), np.float64(-1.0), np.float64(-1.0), np.float64(1.0), np.float64(1.0), np.float64(-1.0)]"
      ]
     },
     "execution_count": 16,
     "metadata": {},
     "output_type": "execute_result"
    }
   ],
   "execution_count": 16
  },
  {
   "metadata": {
    "ExecuteTime": {
     "end_time": "2025-06-20T08:56:19.968964Z",
     "start_time": "2025-06-20T08:56:19.961081Z"
    }
   },
   "cell_type": "code",
   "source": "ds.diff_train['6']['labels'][:10]",
   "id": "3bc7eff6cbb469b8",
   "outputs": [
    {
     "data": {
      "text/plain": [
       "[np.float64(-1.0),\n",
       " np.float64(1.0),\n",
       " np.float64(1.0),\n",
       " np.float64(1.0),\n",
       " np.float64(-1.0),\n",
       " np.float64(1.0),\n",
       " np.float64(1.0),\n",
       " np.float64(-1.0),\n",
       " np.float64(-1.0),\n",
       " np.float64(1.0)]"
      ]
     },
     "execution_count": 20,
     "metadata": {},
     "output_type": "execute_result"
    }
   ],
   "execution_count": 20
  },
  {
   "metadata": {
    "ExecuteTime": {
     "end_time": "2025-06-20T09:41:53.027825Z",
     "start_time": "2025-06-20T09:41:51.104719Z"
    }
   },
   "cell_type": "code",
   "source": [
    "[ds] = qml.data.load(\"other\", name=\"two-curves\")\n",
    "\n",
    "ds.train['4']['inputs'][:10] # points in 4-dimensional space\n",
    " # labels for the points above"
   ],
   "id": "9835e1320f42ac5a",
   "outputs": [
    {
     "data": {
      "text/plain": [
       "[[np.float64(1.012524767742579), np.float64(1.3934989693248192), np.float64(1.1766780484404105), np.float64(1.130338218963355)],\n",
       " [np.float64(0.03922798705069548), np.float64(-0.5808749537844625), np.float64(-0.3893773062174164), np.float64(0.5406469108080426)],\n",
       " [np.float64(1.3668857234324354), np.float64(1.6422881005180507), np.float64(1.4271336808680464), np.float64(1.4538054706846664)],\n",
       " [np.float64(-0.22561509356588216), np.float64(-0.8376844932552616), np.float64(-0.679858479101092), np.float64(0.27582809285499427)],\n",
       " [np.float64(-0.49514905688392), np.float64(-0.9975138298539251), np.float64(0.40470816887953304), np.float64(-1.1750097182205073)],\n",
       " [np.float64(-0.2446235932674468), np.float64(-0.69215452632057), np.float64(0.75903560988127), np.float64(-0.9916761557199663)],\n",
       " [np.float64(-0.0239712603283368), np.float64(-0.519187488992171), np.float64(-0.24914747254937497), np.float64(0.568533425339033)],\n",
       " [np.float64(-0.024572742007732948), np.float64(0.1984569072857304), np.float64(-0.2420980669620638), np.float64(-0.43991849384796405)],\n",
       " [np.float64(0.20765023405760663), np.float64(-0.688512062695344), np.float64(0.14841070111847324), np.float64(-0.4915877596616425)],\n",
       " [np.float64(-0.05402335369669587), np.float64(-0.8838214047705845), np.float64(-0.36884362070368815), np.float64(-0.08464003547502424)]]"
      ]
     },
     "execution_count": 23,
     "metadata": {},
     "output_type": "execute_result"
    }
   ],
   "execution_count": 23
  },
  {
   "metadata": {
    "ExecuteTime": {
     "end_time": "2025-06-20T09:54:27.183463Z",
     "start_time": "2025-06-20T09:54:27.085362Z"
    }
   },
   "cell_type": "code",
   "source": "train = torch.tensor(ds.diff_train['5']['inputs'])",
   "id": "3e66f027e40d0d52",
   "outputs": [],
   "execution_count": 41
  },
  {
   "metadata": {
    "ExecuteTime": {
     "end_time": "2025-06-20T09:43:20.415074Z",
     "start_time": "2025-06-20T09:43:20.411059Z"
    }
   },
   "cell_type": "code",
   "source": "import numpy as np",
   "id": "940a6e966b9408d3",
   "outputs": [],
   "execution_count": 30
  },
  {
   "metadata": {
    "ExecuteTime": {
     "end_time": "2025-06-20T09:47:42.991128Z",
     "start_time": "2025-06-20T09:47:36.619019Z"
    }
   },
   "cell_type": "code",
   "source": "import torch",
   "id": "dffa6c3462ac5a43",
   "outputs": [],
   "execution_count": 36
  },
  {
   "metadata": {
    "ExecuteTime": {
     "end_time": "2025-06-20T09:54:35.528910Z",
     "start_time": "2025-06-20T09:54:35.523292Z"
    }
   },
   "cell_type": "code",
   "source": "train.shape",
   "id": "c95f73f414874c0e",
   "outputs": [
    {
     "data": {
      "text/plain": [
       "torch.Size([240, 10])"
      ]
     },
     "execution_count": 42,
     "metadata": {},
     "output_type": "execute_result"
    }
   ],
   "execution_count": 42
  },
  {
   "metadata": {},
   "cell_type": "code",
   "outputs": [],
   "execution_count": null,
   "source": "",
   "id": "efd2c0dd93913a09"
  }
 ],
 "metadata": {
  "kernelspec": {
   "display_name": "Python 3",
   "language": "python",
   "name": "python3"
  },
  "language_info": {
   "codemirror_mode": {
    "name": "ipython",
    "version": 2
   },
   "file_extension": ".py",
   "mimetype": "text/x-python",
   "name": "python",
   "nbconvert_exporter": "python",
   "pygments_lexer": "ipython2",
   "version": "2.7.6"
  }
 },
 "nbformat": 4,
 "nbformat_minor": 5
}
